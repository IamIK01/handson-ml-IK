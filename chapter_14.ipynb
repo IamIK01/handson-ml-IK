{
 "cells": [
  {
   "cell_type": "markdown",
   "metadata": {},
   "source": [
    "### Exercises\n",
    "\n",
    "#### 1. What are the advantages of a CNN over a fully connected DNN for image classification?\n",
    "**Answer:**\n",
    "- **Parameter Sharing**: CNNs use shared weights in convolutional layers, which means the same filter (or set of filters) is used across different parts of the input. This greatly reduces the number of parameters compared to fully connected layers.\n",
    "- **Sparsity of Connections**: In CNNs, each neuron is connected only to a local region of the input, reducing the number of connections and parameters.\n",
    "- **Translation Invariance**: CNNs can detect features regardless of their position in the image, thanks to the nature of convolution operations.\n",
    "- **Hierarchical Feature Learning**: CNNs automatically learn to detect low-level features (like edges) in the initial layers and high-level features (like objects) in deeper layers.\n",
    "\n",
    "#### 2. Consider a CNN composed of three convolutional layers, each with 3 × 3 kernels, a stride of 2, and \"same\" padding. The lowest layer outputs 100 feature maps, the middle one outputs 200, and the top one outputs 400. The input images are RGB images of 200 × 300 pixels.\n",
    "**Answer:**\n",
    "\n",
    "1. **First Convolutional Layer**:\n",
    "   - Input: 200 x 300 x 3\n",
    "   - Stride: 2\n",
    "   - \"Same\" padding ensures the output size is \\( $\\lceil \\frac{\\text{input size}}{2} \\rceil$ \\)\n",
    "   - Output size (height, width): \\( $\\lceil \\frac{200}{2} \\rceil \\times \\lceil \\frac{300}{2} \\rceil$ \\) = 100 x 150\n",
    "   - Output: 100 x 150 x 100 (100 feature maps)\n",
    "   \n",
    "2. **Second Convolutional Layer**:\n",
    "   - Input: 100 x 150 x 100\n",
    "   - Stride: 2\n",
    "   - Output size (height, width): \\( $\\lceil \\frac{100}{2} \\rceil \\times \\lceil \\frac{150}{2} \\rceil$ \\) = 50 x 75\n",
    "   - Output: 50 x 75 x 200 (200 feature maps)\n",
    "   \n",
    "3. **Third Convolutional Layer**:\n",
    "   - Input: 50 x 75 x 200\n",
    "   - Stride: 2\n",
    "   - Output size (height, width): \\( $\\lceil \\frac{50}{2} \\rceil \\times \\lceil \\frac{75}{2} \\rceil$ \\) = 25 x 38\n",
    "   - Output: 25 x 38 x 400 (400 feature maps)\n",
    "\n",
    "##### Total Number of Parameters in the CNN:\n",
    "\n",
    "1. **First Convolutional Layer**:\n",
    "   - Number of filters: 100\n",
    "   - Filter size: \\(3 $\\times$ 3 $\\times$ 3\\)\n",
    "   - Parameters per filter: \\(3 $\\times$ 3 $\\times$ 3 = 27\\)\n",
    "   - Total parameters (including biases): \\(100 $\\times$ (27 + 1) = 2800\\)\n",
    "\n",
    "2. **Second Convolutional Layer**:\n",
    "   - Number of filters: 200\n",
    "   - Filter size: \\(3 $\\times$ 3 $\\times$ 100\\)\n",
    "   - Parameters per filter: \\(3 $\\times$ 3 $\\times$ 100 = 900\\)\n",
    "   - Total parameters (including biases): \\(200 $\\times$ (900 + 1) = 180200\\)\n",
    "\n",
    "3. **Third Convolutional Layer**:\n",
    "   - Number of filters: 400\n",
    "   - Filter size: \\(3 $\\times$ 3 $\\times$ 200\\)\n",
    "   - Parameters per filter: \\(3 $\\times$ 3 $\\times$ 200 = 1800\\)\n",
    "   - Total parameters (including biases): \\(400 $\\times$ (1800 + 1) = 720400\\)\n",
    "\n",
    "- **Total parameters in the CNN**: \\(2800 + 180200 + 720400 = 903400\\)\n",
    "\n",
    "##### RAM Requirement for a Single Instance:\n",
    "\n",
    "- **Input image size**: \\(200 $\\times$ 300 $\\times$ 3 = 180000\\)\n",
    "- **First layer output size**: \\(100 $\\times$ 150 $\\times$ 100 = 1500000\\)\n",
    "- **Second layer output size**: \\(50 $\\times$ 75 $\\times$ 200 = 750000\\)\n",
    "- **Third layer output size**: \\(25 $\\times$ 38 $\\times$ 400 = 380000\\)\n",
    "\n",
    "- **Total activations**: \\(180000 + 1500000 + 750000 + 380000 = 2810000\\)\n",
    "\n",
    "- **Total activations in bytes (32-bit float = 4 bytes)**: \\(2810000 $\\times$ 4 = 11240000\\) bytes = 11.24 MB\n",
    "\n",
    "- **Parameters in bytes**: \\(903400 $\\times$ 4 = 3613600\\) bytes = 3.61 MB\n",
    "\n",
    "- **Total RAM for a single instance**: \\(11.24 + 3.61 = 14.85\\) MB\n",
    "\n",
    "##### RAM Requirement for a Mini-Batch of 50 Images:\n",
    "\n",
    "- **Activations for 50 images**: \\(2810000 $\\times$ 50 = 140500000\\)\n",
    "- **Activations in bytes**: \\(140500000 $\\times$ 4 = 562000000\\) bytes = 562 MB\n",
    "- **Parameters remain the same**: 3.61 MB\n",
    "\n",
    "- **Total RAM for a mini-batch of 50 images**: \\(562 + 3.61 = 565.61\\) MB\n",
    "\n",
    "##### Summary:\n",
    "\n",
    "- **Total parameters in the CNN**: 903,400\n",
    "- **Total RAM for a single instance**: 14.85 MB\n",
    "- **Total RAM for a mini-batch of 50 images**: 565.61 MB\n",
    "\n",
    "\n",
    "#### 3. If your GPU runs out of memory while training a CNN, what are five things you could try to solve the problem?\n",
    "**Answer:**\n",
    "1. **Reduce the Mini-Batch Size**: Decreasing the number of samples in each mini-batch reduces memory usage.\n",
    "2. **Use Model Checkpointing**: Save intermediate states and use gradient checkpointing to recompute parts of the model during backpropagation instead of storing all intermediate activations.\n",
    "3. **Reduce the Input Image Size**: Decreasing the resolution of input images lowers memory requirements.\n",
    "4. **Simplify the Model**: Reduce the number of layers or the number of filters per layer to decrease the model size.\n",
    "5. **Use Mixed Precision Training**: Train the model with mixed precision (using both 16-bit and 32-bit floating point numbers) to save memory.\n",
    "\n",
    "#### 4. Why would you want to add a max pooling layer rather than a convolutional layer with the same stride?\n",
    "**Answer:**\n",
    "- **Dimensionality Reduction**: Max pooling reduces the spatial dimensions of the input, which decreases the computational load and memory usage.\n",
    "- **Feature Selection**: Max pooling helps retain the most prominent features while discarding less important ones, which can improve generalization.\n",
    "- **Translation Invariance**: Max pooling introduces a degree of translational invariance, helping the network recognize objects regardless of minor positional changes.\n",
    "\n",
    "#### 5. When would you want to add a local response normalization layer?\n",
    "**Answer:**\n",
    "- **Competitive Normalization**: Local response normalization (LRN) layers can help highlight significant features by normalizing the responses across neighboring neurons, making the network more sensitive to strong activations.\n",
    "- **Improving Generalization**: LRN can improve generalization by reducing overfitting, especially in early layers of the network.\n",
    "- **Used in Specific Architectures**: LRN layers were particularly popular in earlier architectures like AlexNet but are less commonly used in modern architectures.\n",
    "\n",
    "#### 6. Can you name the main innovations in AlexNet, compared to LeNet-5? What about the main innovations in GoogLeNet, ResNet, SENet, and Xception?\n",
    "**Answer:**\n",
    "- **AlexNet**: \n",
    "  - Deeper network with more filters per layer.\n",
    "  - Use of ReLU activation functions instead of tanh or sigmoid.\n",
    "  - Overlapping max pooling.\n",
    "  - Dropout for regularization.\n",
    "  - Data augmentation to reduce overfitting.\n",
    "  - Use of GPUs for faster training.\n",
    "  \n",
    "- **GoogLeNet (Inception)**:\n",
    "  - Inception modules that allow multiple convolutions with different kernel sizes to run in parallel.\n",
    "  - Reduction in the number of parameters by using 1x1 convolutions.\n",
    "  - Deep network with 22 layers.\n",
    "\n",
    "- **ResNet**:\n",
    "  - Introduction of residual connections (skip connections) to alleviate the vanishing gradient problem and enable training of very deep networks.\n",
    "  - Identity mappings in skip connections to make the optimization easier.\n",
    "\n",
    "- **SENet**:\n",
    "  - Introduction of Squeeze-and-Excitation (SE) blocks that adaptively recalibrate channel-wise feature responses by explicitly modeling interdependencies between channels.\n",
    "  \n",
    "- **Xception**:\n",
    "  - Extreme version of Inception, where Inception modules are replaced with depthwise separable convolutions.\n",
    "  - Efficient combination of depthwise and pointwise convolutions to reduce computational cost while maintaining performance.\n",
    "\n",
    "#### 7. What is a fully convolutional network? How can you convert a dense layer into a convolutional layer?\n",
    "**Answer:**\n",
    "- **Fully Convolutional Network (FCN)**: A network composed entirely of convolutional layers, without any dense (fully connected) layers, typically used for tasks like semantic segmentation where spatial information must be preserved throughout the network.\n",
    "  \n",
    "- **Converting a Dense Layer to a Convolutional Layer**: \n",
    "  - A dense layer with \\(n\\) neurons can be replaced by a convolutional layer with \\(n\\) filters of size 1x1. This makes each output feature map correspond to a single neuron in the dense layer while maintaining the spatial dimensions of the input.\n",
    "\n",
    "#### 8. What is the main technical difficulty of semantic segmentation?\n",
    "**Answer:**\n",
    "- **Precise Localization**: Semantic segmentation requires precise pixel-level classification, which is challenging because it demands accurate spatial information throughout the network. Maintaining high-resolution features and combining contextual information effectively while preserving spatial details is technically difficult. This often requires a combination of downsampling for context and upsampling (with techniques like deconvolution or unpooling) to restore spatial resolution."
   ]
  },
  {
   "cell_type": "markdown",
   "metadata": {},
   "source": [
    "#### 9. Build your own CNN from scratch and try to achieve the highest possible accuracy on MNIST."
   ]
  },
  {
   "cell_type": "code",
   "execution_count": 1,
   "metadata": {},
   "outputs": [
    {
     "name": "stderr",
     "output_type": "stream",
     "text": [
      "2024-05-27 23:45:17.528248: I tensorflow/core/platform/cpu_feature_guard.cc:210] This TensorFlow binary is optimized to use available CPU instructions in performance-critical operations.\n",
      "To enable the following instructions: AVX2 FMA, in other operations, rebuild TensorFlow with the appropriate compiler flags.\n",
      "2024-05-27 23:45:19.131715: W tensorflow/compiler/tf2tensorrt/utils/py_utils.cc:38] TF-TRT Warning: Could not find TensorRT\n"
     ]
    }
   ],
   "source": [
    "from utils import set_seed\n",
    "import os\n",
    "\n",
    "set_seed()\n",
    "\n",
    "ROOT_DIR = './'\n",
    "datapath = os.path.join(ROOT_DIR, 'datasets')\n",
    "os.makedirs(datapath, exist_ok=True)"
   ]
  },
  {
   "cell_type": "code",
   "execution_count": 2,
   "metadata": {},
   "outputs": [
    {
     "name": "stderr",
     "output_type": "stream",
     "text": [
      "/home/im-ik01/miniconda3/envs/tf_gpu/lib/python3.11/site-packages/tqdm/auto.py:21: TqdmWarning: IProgress not found. Please update jupyter and ipywidgets. See https://ipywidgets.readthedocs.io/en/stable/user_install.html\n",
      "  from .autonotebook import tqdm as notebook_tqdm\n",
      "2024-05-27 23:45:35.071497: I external/local_xla/xla/stream_executor/cuda/cuda_executor.cc:998] successful NUMA node read from SysFS had negative value (-1), but there must be at least one NUMA node, so returning NUMA node zero. See more at https://github.com/torvalds/linux/blob/v6.0/Documentation/ABI/testing/sysfs-bus-pci#L344-L355\n",
      "2024-05-27 23:45:35.296996: W tensorflow/core/common_runtime/gpu/gpu_device.cc:2251] Cannot dlopen some GPU libraries. Please make sure the missing libraries mentioned above are installed properly if you would like to use GPU. Follow the guide at https://www.tensorflow.org/install/gpu for how to download and setup the required libraries for your platform.\n",
      "Skipping registering GPU devices...\n"
     ]
    }
   ],
   "source": [
    "import tensorflow as tf\n",
    "import tensorflow_datasets as tfds\n",
    "\n",
    "# Load the MNIST dataset using tfds\n",
    "(ds_train, ds_val, ds_test), ds_info = tfds.load(\n",
    "    'mnist',\n",
    "    split=['train[:80%]', 'train[80%:]', 'test'],\n",
    "    shuffle_files=True,\n",
    "    as_supervised=True,\n",
    "    with_info=True,\n",
    "    data_dir=datapath\n",
    ")\n"
   ]
  },
  {
   "cell_type": "markdown",
   "metadata": {},
   "source": [
    "##### Normalize the data (0-1)"
   ]
  },
  {
   "cell_type": "code",
   "execution_count": 3,
   "metadata": {},
   "outputs": [],
   "source": [
    "# Normalize the images to [0, 1]\n",
    "def normalize_img(image, label):\n",
    "    \"\"\"Normalizes images: `uint8` -> `float32`.\"\"\"\n",
    "    return tf.cast(image, tf.float32) / 255.0, label\n",
    "\n",
    "ds_train = ds_train.map(normalize_img, num_parallel_calls=tf.data.experimental.AUTOTUNE)\n",
    "ds_test = ds_test.map(normalize_img, num_parallel_calls=tf.data.experimental.AUTOTUNE)\n",
    "ds_val = ds_val.map(normalize_img, num_parallel_calls=tf.data.experimental.AUTOTUNE)\n"
   ]
  },
  {
   "cell_type": "markdown",
   "metadata": {},
   "source": [
    "##### Helper funcion to visualize the data"
   ]
  },
  {
   "cell_type": "code",
   "execution_count": 5,
   "metadata": {},
   "outputs": [],
   "source": [
    "import matplotlib.pyplot as plt\n",
    "\n",
    "# Function to visualize a batch of images\n",
    "def visualize_batch(images, labels, title):\n",
    "    plt.figure(figsize=(10, 10))\n",
    "    for i in range(9):\n",
    "        ax = plt.subplot(3, 3, i + 1)\n",
    "        plt.imshow(images[i].numpy().squeeze(), cmap='gray')\n",
    "        plt.title(f\"Label: {labels[i].numpy()}\")\n",
    "        plt.axis(\"off\")\n",
    "    plt.suptitle(title)\n",
    "    plt.show()"
   ]
  },
  {
   "cell_type": "code",
   "execution_count": 6,
   "metadata": {},
   "outputs": [
    {
     "name": "stderr",
     "output_type": "stream",
     "text": [
      "2024-05-27 23:09:46.097517: W tensorflow/core/kernels/data/cache_dataset_ops.cc:858] The calling iterator did not fully read the dataset being cached. In order to avoid unexpected truncation of the dataset, the partially cached contents of the dataset  will be discarded. This can happen if you have an input pipeline similar to `dataset.cache().take(k).repeat()`. You should use `dataset.take(k).cache().repeat()` instead.\n"
     ]
    },
    {
     "data": {
      "image/png": "[encoded data removed]",
      "text/plain": [
       "<Figure size 1000x1000 with 9 Axes>"
      ]
     },
     "metadata": {},
     "output_type": "display_data"
    },
    {
     "name": "stderr",
     "output_type": "stream",
     "text": [
      "2024-05-27 23:09:46.587549: W tensorflow/core/framework/local_rendezvous.cc:404] Local rendezvous is aborting with status: OUT_OF_RANGE: End of sequence\n"
     ]
    }
   ],
   "source": [
    "# Visualize the original data\n",
    "for images, labels in ds_train.batch(9).take(1):\n",
    "    visualize_batch(images, labels, \"Original Data\")"
   ]
  },
  {
   "cell_type": "markdown",
   "metadata": {},
   "source": [
    "##### Create the augmentation pipeline and augmentation function"
   ]
  },
  {
   "cell_type": "code",
   "execution_count": 8,
   "metadata": {},
   "outputs": [],
   "source": [
    "# Set up the data augmentation\n",
    "data_augmentation = tf.keras.Sequential([\n",
    "    tf.keras.layers.RandomRotation(0.1),\n",
    "    tf.keras.layers.RandomZoom(0.1),\n",
    "    tf.keras.layers.RandomTranslation(0.1, 0.1)\n",
    "])"
   ]
  },
  {
   "cell_type": "code",
   "execution_count": 9,
   "metadata": {},
   "outputs": [],
   "source": [
    "# Apply data augmentation to the dataset\n",
    "def augment(image, label):\n",
    "    image = data_augmentation(image, training=True)\n",
    "    return image, label"
   ]
  },
  {
   "cell_type": "markdown",
   "metadata": {},
   "source": [
    "##### Augment the data"
   ]
  },
  {
   "cell_type": "code",
   "execution_count": 10,
   "metadata": {},
   "outputs": [],
   "source": [
    "ds_train_augmented = ds_train.map(augment, num_parallel_calls=tf.data.experimental.AUTOTUNE)\n",
    "ds_val_augmented = ds_val.map(augment, num_parallel_calls=tf.data.experimental.AUTOTUNE)\n"
   ]
  },
  {
   "cell_type": "code",
   "execution_count": 11,
   "metadata": {},
   "outputs": [
    {
     "name": "stderr",
     "output_type": "stream",
     "text": [
      "2024-05-27 23:15:16.361897: W tensorflow/core/kernels/data/cache_dataset_ops.cc:858] The calling iterator did not fully read the dataset being cached. In order to avoid unexpected truncation of the dataset, the partially cached contents of the dataset  will be discarded. This can happen if you have an input pipeline similar to `dataset.cache().take(k).repeat()`. You should use `dataset.take(k).cache().repeat()` instead.\n"
     ]
    },
    {
     "data": {
      "image/png": "[encoded data removed]",
      "text/plain": [
       "<Figure size 1000x1000 with 9 Axes>"
      ]
     },
     "metadata": {},
     "output_type": "display_data"
    },
    {
     "name": "stderr",
     "output_type": "stream",
     "text": [
      "2024-05-27 23:15:16.682123: W tensorflow/core/framework/local_rendezvous.cc:404] Local rendezvous is aborting with status: OUT_OF_RANGE: End of sequence\n"
     ]
    }
   ],
   "source": [
    "# Visualize the augmented data\n",
    "for images, labels in ds_train_augmented.batch(9).take(1):\n",
    "    visualize_batch(images, labels, \"Augmented Data\")"
   ]
  },
  {
   "cell_type": "code",
   "execution_count": 12,
   "metadata": {},
   "outputs": [],
   "source": [
    "# Batch and prefetch the datasets\n",
    "batch_size = 32\n",
    "ds_train_augmented = ds_train_augmented.cache().shuffle(10000).batch(batch_size).prefetch(tf.data.experimental.AUTOTUNE)\n",
    "ds_val_augmented = ds_val_augmented.batch(batch_size).cache().prefetch(tf.data.experimental.AUTOTUNE)\n",
    "ds_test = ds_test.batch(batch_size).cache().prefetch(tf.data.experimental.AUTOTUNE)\n"
   ]
  },
  {
   "cell_type": "markdown",
   "metadata": {},
   "source": [
    "##### Build the model"
   ]
  },
  {
   "cell_type": "code",
   "execution_count": 13,
   "metadata": {},
   "outputs": [
    {
     "name": "stderr",
     "output_type": "stream",
     "text": [
      "/home/im-ik01/miniconda3/envs/tf_gpu/lib/python3.11/site-packages/keras/src/layers/convolutional/base_conv.py:107: UserWarning: Do not pass an `input_shape`/`input_dim` argument to a layer. When using Sequential models, prefer using an `Input(shape)` object as the first layer in the model instead.\n",
      "  super().__init__(activity_regularizer=activity_regularizer, **kwargs)\n"
     ]
    }
   ],
   "source": [
    "# Build the model\n",
    "model = tf.keras.models.Sequential([\n",
    "    tf.keras.layers.Conv2D(32, (3, 3), activation='relu', input_shape=(28, 28, 1)),\n",
    "    tf.keras.layers.MaxPooling2D((2, 2)),\n",
    "    tf.keras.layers.Conv2D(64, (3, 3), activation='relu'),\n",
    "    tf.keras.layers.MaxPooling2D((2, 2)),\n",
    "    tf.keras.layers.Flatten(),\n",
    "    tf.keras.layers.Dense(128, activation='relu'),\n",
    "    tf.keras.layers.Dense(10, activation='softmax')\n",
    "])\n",
    "\n",
    "# Compile the model\n",
    "model.compile(optimizer='adam',\n",
    "              loss='sparse_categorical_crossentropy',\n",
    "              metrics=['accuracy'])"
   ]
  },
  {
   "cell_type": "code",
   "execution_count": 14,
   "metadata": {},
   "outputs": [
    {
     "name": "stdout",
     "output_type": "stream",
     "text": [
      "Epoch 1/10\n"
     ]
    },
    {
     "name": "stderr",
     "output_type": "stream",
     "text": [
      "WARNING: All log messages before absl::InitializeLog() is called are written to STDERR\n",
      "I0000 00:00:1716848528.851407   12041 service.cc:145] XLA service 0x7d22f0002a80 initialized for platform CUDA (this does not guarantee that XLA will be used). Devices:\n",
      "I0000 00:00:1716848528.851440   12041 service.cc:153]   StreamExecutor device (0): NVIDIA GeForce GTX 1050 Ti with Max-Q Design, Compute Capability 6.1\n",
      "2024-05-27 23:22:08.898600: I tensorflow/compiler/mlir/tensorflow/utils/dump_mlir_util.cc:268] disabling MLIR crash reproducer, set env var `MLIR_CRASH_REPRODUCER_DIRECTORY` to enable.\n",
      "2024-05-27 23:22:09.541874: E external/local_xla/xla/stream_executor/cuda/cuda_dnn.cc:458] Loaded runtime CuDNN library: 8.0.4 but source was compiled with: 8.9.6.  CuDNN library needs to have matching major version and equal or higher minor version. If using a binary install, upgrade your CuDNN library.  If building from sources, make sure the library loaded at runtime is compatible with the version specified during compile configuration.\n",
      "2024-05-27 23:22:09.557891: E external/local_xla/xla/stream_executor/cuda/cuda_dnn.cc:458] Loaded runtime CuDNN library: 8.0.4 but source was compiled with: 8.9.6.  CuDNN library needs to have matching major version and equal or higher minor version. If using a binary install, upgrade your CuDNN library.  If building from sources, make sure the library loaded at runtime is compatible with the version specified during compile configuration.\n",
      "2024-05-27 23:22:09.562696: W tensorflow/core/framework/op_kernel.cc:1839] OP_REQUIRES failed at xla_ops.cc:580 : FAILED_PRECONDITION: DNN library initialization failed. Look at the errors above for more details.\n",
      "2024-05-27 23:22:09.562771: W tensorflow/core/framework/local_rendezvous.cc:404] Local rendezvous is aborting with status: FAILED_PRECONDITION: DNN library initialization failed. Look at the errors above for more details.\n",
      "\t [[{{node StatefulPartitionedCall}}]]\n"
     ]
    },
    {
     "ename": "FailedPreconditionError",
     "evalue": "Graph execution error:\n\nDetected at node StatefulPartitionedCall defined at (most recent call last):\n  File \"<frozen runpy>\", line 198, in _run_module_as_main\n\n  File \"<frozen runpy>\", line 88, in _run_code\n\n  File \"/home/im-ik01/miniconda3/envs/tf_gpu/lib/python3.11/site-packages/ipykernel_launcher.py\", line 18, in <module>\n\n  File \"/home/im-ik01/miniconda3/envs/tf_gpu/lib/python3.11/site-packages/traitlets/config/application.py\", line 1075, in launch_instance\n\n  File \"/home/im-ik01/miniconda3/envs/tf_gpu/lib/python3.11/site-packages/ipykernel/kernelapp.py\", line 739, in start\n\n  File \"/home/im-ik01/miniconda3/envs/tf_gpu/lib/python3.11/site-packages/tornado/platform/asyncio.py\", line 205, in start\n\n  File \"/home/im-ik01/miniconda3/envs/tf_gpu/lib/python3.11/asyncio/base_events.py\", line 608, in run_forever\n\n  File \"/home/im-ik01/miniconda3/envs/tf_gpu/lib/python3.11/asyncio/base_events.py\", line 1936, in _run_once\n\n  File \"/home/im-ik01/miniconda3/envs/tf_gpu/lib/python3.11/asyncio/events.py\", line 84, in _run\n\n  File \"/home/im-ik01/miniconda3/envs/tf_gpu/lib/python3.11/site-packages/ipykernel/kernelbase.py\", line 545, in dispatch_queue\n\n  File \"/home/im-ik01/miniconda3/envs/tf_gpu/lib/python3.11/site-packages/ipykernel/kernelbase.py\", line 534, in process_one\n\n  File \"/home/im-ik01/miniconda3/envs/tf_gpu/lib/python3.11/site-packages/ipykernel/kernelbase.py\", line 437, in dispatch_shell\n\n  File \"/home/im-ik01/miniconda3/envs/tf_gpu/lib/python3.11/site-packages/ipykernel/ipkernel.py\", line 362, in execute_request\n\n  File \"/home/im-ik01/miniconda3/envs/tf_gpu/lib/python3.11/site-packages/ipykernel/kernelbase.py\", line 778, in execute_request\n\n  File \"/home/im-ik01/miniconda3/envs/tf_gpu/lib/python3.11/site-packages/ipykernel/ipkernel.py\", line 449, in do_execute\n\n  File \"/home/im-ik01/miniconda3/envs/tf_gpu/lib/python3.11/site-packages/ipykernel/zmqshell.py\", line 549, in run_cell\n\n  File \"/home/im-ik01/miniconda3/envs/tf_gpu/lib/python3.11/site-packages/IPython/core/interactiveshell.py\", line 3075, in run_cell\n\n  File \"/home/im-ik01/miniconda3/envs/tf_gpu/lib/python3.11/site-packages/IPython/core/interactiveshell.py\", line 3130, in _run_cell\n\n  File \"/home/im-ik01/miniconda3/envs/tf_gpu/lib/python3.11/site-packages/IPython/core/async_helpers.py\", line 129, in _pseudo_sync_runner\n\n  File \"/home/im-ik01/miniconda3/envs/tf_gpu/lib/python3.11/site-packages/IPython/core/interactiveshell.py\", line 3334, in run_cell_async\n\n  File \"/home/im-ik01/miniconda3/envs/tf_gpu/lib/python3.11/site-packages/IPython/core/interactiveshell.py\", line 3517, in run_ast_nodes\n\n  File \"/home/im-ik01/miniconda3/envs/tf_gpu/lib/python3.11/site-packages/IPython/core/interactiveshell.py\", line 3577, in run_code\n\n  File \"/tmp/ipykernel_11665/2108383217.py\", line 2, in <module>\n\n  File \"/home/im-ik01/miniconda3/envs/tf_gpu/lib/python3.11/site-packages/keras/src/utils/traceback_utils.py\", line 117, in error_handler\n\n  File \"/home/im-ik01/miniconda3/envs/tf_gpu/lib/python3.11/site-packages/keras/src/backend/tensorflow/trainer.py\", line 314, in fit\n\n  File \"/home/im-ik01/miniconda3/envs/tf_gpu/lib/python3.11/site-packages/keras/src/backend/tensorflow/trainer.py\", line 117, in one_step_on_iterator\n\nDNN library initialization failed. Look at the errors above for more details.\n\t [[{{node StatefulPartitionedCall}}]] [Op:__inference_one_step_on_iterator_2546]",
     "output_type": "error",
     "traceback": [
      "\u001b[0;31m---------------------------------------------------------------------------\u001b[0m",
      "\u001b[0;31mFailedPreconditionError\u001b[0m                   Traceback (most recent call last)",
      "Cell \u001b[0;32mIn[14], line 2\u001b[0m\n\u001b[1;32m      1\u001b[0m \u001b[38;5;66;03m# Train the model\u001b[39;00m\n\u001b[0;32m----> 2\u001b[0m history \u001b[38;5;241m=\u001b[39m \u001b[43mmodel\u001b[49m\u001b[38;5;241;43m.\u001b[39;49m\u001b[43mfit\u001b[49m\u001b[43m(\u001b[49m\u001b[43mds_train_augmented\u001b[49m\u001b[43m,\u001b[49m\u001b[43m \u001b[49m\u001b[43mepochs\u001b[49m\u001b[38;5;241;43m=\u001b[39;49m\u001b[38;5;241;43m10\u001b[39;49m\u001b[43m,\u001b[49m\u001b[43m \u001b[49m\u001b[43mvalidation_data\u001b[49m\u001b[38;5;241;43m=\u001b[39;49m\u001b[43mds_val_augmented\u001b[49m\u001b[43m)\u001b[49m\n",
      "File \u001b[0;32m~/miniconda3/envs/tf_gpu/lib/python3.11/site-packages/keras/src/utils/traceback_utils.py:122\u001b[0m, in \u001b[0;36mfilter_traceback.<locals>.error_handler\u001b[0;34m(*args, **kwargs)\u001b[0m\n\u001b[1;32m    119\u001b[0m     filtered_tb \u001b[38;5;241m=\u001b[39m _process_traceback_frames(e\u001b[38;5;241m.\u001b[39m__traceback__)\n\u001b[1;32m    120\u001b[0m     \u001b[38;5;66;03m# To get the full stack trace, call:\u001b[39;00m\n\u001b[1;32m    121\u001b[0m     \u001b[38;5;66;03m# `keras.config.disable_traceback_filtering()`\u001b[39;00m\n\u001b[0;32m--> 122\u001b[0m     \u001b[38;5;28;01mraise\u001b[39;00m e\u001b[38;5;241m.\u001b[39mwith_traceback(filtered_tb) \u001b[38;5;28;01mfrom\u001b[39;00m \u001b[38;5;28;01mNone\u001b[39;00m\n\u001b[1;32m    123\u001b[0m \u001b[38;5;28;01mfinally\u001b[39;00m:\n\u001b[1;32m    124\u001b[0m     \u001b[38;5;28;01mdel\u001b[39;00m filtered_tb\n",
      "File \u001b[0;32m~/miniconda3/envs/tf_gpu/lib/python3.11/site-packages/tensorflow/python/eager/execute.py:53\u001b[0m, in \u001b[0;36mquick_execute\u001b[0;34m(op_name, num_outputs, inputs, attrs, ctx, name)\u001b[0m\n\u001b[1;32m     51\u001b[0m \u001b[38;5;28;01mtry\u001b[39;00m:\n\u001b[1;32m     52\u001b[0m   ctx\u001b[38;5;241m.\u001b[39mensure_initialized()\n\u001b[0;32m---> 53\u001b[0m   tensors \u001b[38;5;241m=\u001b[39m pywrap_tfe\u001b[38;5;241m.\u001b[39mTFE_Py_Execute(ctx\u001b[38;5;241m.\u001b[39m_handle, device_name, op_name,\n\u001b[1;32m     54\u001b[0m                                       inputs, attrs, num_outputs)\n\u001b[1;32m     55\u001b[0m \u001b[38;5;28;01mexcept\u001b[39;00m core\u001b[38;5;241m.\u001b[39m_NotOkStatusException \u001b[38;5;28;01mas\u001b[39;00m e:\n\u001b[1;32m     56\u001b[0m   \u001b[38;5;28;01mif\u001b[39;00m name \u001b[38;5;129;01mis\u001b[39;00m \u001b[38;5;129;01mnot\u001b[39;00m \u001b[38;5;28;01mNone\u001b[39;00m:\n",
      "\u001b[0;31mFailedPreconditionError\u001b[0m: Graph execution error:\n\nDetected at node StatefulPartitionedCall defined at (most recent call last):\n  File \"<frozen runpy>\", line 198, in _run_module_as_main\n\n  File \"<frozen runpy>\", line 88, in _run_code\n\n  File \"/home/im-ik01/miniconda3/envs/tf_gpu/lib/python3.11/site-packages/ipykernel_launcher.py\", line 18, in <module>\n\n  File \"/home/im-ik01/miniconda3/envs/tf_gpu/lib/python3.11/site-packages/traitlets/config/application.py\", line 1075, in launch_instance\n\n  File \"/home/im-ik01/miniconda3/envs/tf_gpu/lib/python3.11/site-packages/ipykernel/kernelapp.py\", line 739, in start\n\n  File \"/home/im-ik01/miniconda3/envs/tf_gpu/lib/python3.11/site-packages/tornado/platform/asyncio.py\", line 205, in start\n\n  File \"/home/im-ik01/miniconda3/envs/tf_gpu/lib/python3.11/asyncio/base_events.py\", line 608, in run_forever\n\n  File \"/home/im-ik01/miniconda3/envs/tf_gpu/lib/python3.11/asyncio/base_events.py\", line 1936, in _run_once\n\n  File \"/home/im-ik01/miniconda3/envs/tf_gpu/lib/python3.11/asyncio/events.py\", line 84, in _run\n\n  File \"/home/im-ik01/miniconda3/envs/tf_gpu/lib/python3.11/site-packages/ipykernel/kernelbase.py\", line 545, in dispatch_queue\n\n  File \"/home/im-ik01/miniconda3/envs/tf_gpu/lib/python3.11/site-packages/ipykernel/kernelbase.py\", line 534, in process_one\n\n  File \"/home/im-ik01/miniconda3/envs/tf_gpu/lib/python3.11/site-packages/ipykernel/kernelbase.py\", line 437, in dispatch_shell\n\n  File \"/home/im-ik01/miniconda3/envs/tf_gpu/lib/python3.11/site-packages/ipykernel/ipkernel.py\", line 362, in execute_request\n\n  File \"/home/im-ik01/miniconda3/envs/tf_gpu/lib/python3.11/site-packages/ipykernel/kernelbase.py\", line 778, in execute_request\n\n  File \"/home/im-ik01/miniconda3/envs/tf_gpu/lib/python3.11/site-packages/ipykernel/ipkernel.py\", line 449, in do_execute\n\n  File \"/home/im-ik01/miniconda3/envs/tf_gpu/lib/python3.11/site-packages/ipykernel/zmqshell.py\", line 549, in run_cell\n\n  File \"/home/im-ik01/miniconda3/envs/tf_gpu/lib/python3.11/site-packages/IPython/core/interactiveshell.py\", line 3075, in run_cell\n\n  File \"/home/im-ik01/miniconda3/envs/tf_gpu/lib/python3.11/site-packages/IPython/core/interactiveshell.py\", line 3130, in _run_cell\n\n  File \"/home/im-ik01/miniconda3/envs/tf_gpu/lib/python3.11/site-packages/IPython/core/async_helpers.py\", line 129, in _pseudo_sync_runner\n\n  File \"/home/im-ik01/miniconda3/envs/tf_gpu/lib/python3.11/site-packages/IPython/core/interactiveshell.py\", line 3334, in run_cell_async\n\n  File \"/home/im-ik01/miniconda3/envs/tf_gpu/lib/python3.11/site-packages/IPython/core/interactiveshell.py\", line 3517, in run_ast_nodes\n\n  File \"/home/im-ik01/miniconda3/envs/tf_gpu/lib/python3.11/site-packages/IPython/core/interactiveshell.py\", line 3577, in run_code\n\n  File \"/tmp/ipykernel_11665/2108383217.py\", line 2, in <module>\n\n  File \"/home/im-ik01/miniconda3/envs/tf_gpu/lib/python3.11/site-packages/keras/src/utils/traceback_utils.py\", line 117, in error_handler\n\n  File \"/home/im-ik01/miniconda3/envs/tf_gpu/lib/python3.11/site-packages/keras/src/backend/tensorflow/trainer.py\", line 314, in fit\n\n  File \"/home/im-ik01/miniconda3/envs/tf_gpu/lib/python3.11/site-packages/keras/src/backend/tensorflow/trainer.py\", line 117, in one_step_on_iterator\n\nDNN library initialization failed. Look at the errors above for more details.\n\t [[{{node StatefulPartitionedCall}}]] [Op:__inference_one_step_on_iterator_2546]"
     ]
    }
   ],
   "source": [
    "# Train the model\n",
    "history = model.fit(ds_train_augmented, epochs=10, validation_data=ds_val_augmented)"
   ]
  },
  {
   "cell_type": "code",
   "execution_count": null,
   "metadata": {},
   "outputs": [],
   "source": []
  }
 ],
 "metadata": {
  "kernelspec": {
   "display_name": "Python 3",
   "language": "python",
   "name": "python3"
  },
  "language_info": {
   "codemirror_mode": {
    "name": "ipython",
    "version": 3
   },
   "file_extension": ".py",
   "mimetype": "text/x-python",
   "name": "python",
   "nbconvert_exporter": "python",
   "pygments_lexer": "ipython3",
   "version": "3.11.9"
  }
 },
 "nbformat": 4,
 "nbformat_minor": 2
}
